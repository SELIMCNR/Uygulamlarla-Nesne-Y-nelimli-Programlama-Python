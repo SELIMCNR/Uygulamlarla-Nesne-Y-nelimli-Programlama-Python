{
 "cells": [
  {
   "cell_type": "code",
   "execution_count": 1,
   "metadata": {},
   "outputs": [],
   "source": [
    "class Product: \n",
    "    def __init__(self,name,price,quantity):\n",
    "        print(f\"An instance with name : {name} has been derived from Product class\")\n",
    "        self.__name = name # __name is a private attribute\n",
    "        self.price = price # price is a public attribute\n",
    "        self.quantity = quantity\n",
    "     \n",
    "    #kapsülleme    \n",
    "    @property   # getter \n",
    "    def name(self):\n",
    "        return self.__name    \n",
    "    @name.setter # setter\n",
    "    def name(self,value):\n",
    "        self.__name = value\n",
    "    \n",
    "    @property\n",
    "    def price(self):\n",
    "        return self.__price\n",
    "    @price.setter\n",
    "    def price(self,value):\n",
    "        self.__price = value\n",
    "    \n",
    "    @property\n",
    "    def quantity(self):\n",
    "        return self.__quantity\n",
    "    @quantity.setter\n",
    "    def quantity(self,value):\n",
    "        self.__quantity = value        \n",
    "        "
   ]
  },
  {
   "cell_type": "code",
   "execution_count": 2,
   "metadata": {},
   "outputs": [
    {
     "name": "stdout",
     "output_type": "stream",
     "text": [
      "An instance with name : Laptop has been derived from Product class\n",
      "Mobile\n",
      "2000\n",
      "10\n"
     ]
    }
   ],
   "source": [
    "item1 = Product(\"Laptop\", 3000, 5)\n",
    "item1.name = \"Mobile\" # setter is called\n",
    "item1.price = 2000\n",
    "item1.quantity = 10\n",
    "print(item1.name)\n",
    "print(item1.price)\n",
    "print(item1.quantity)\n",
    "\n"
   ]
  },
  {
   "cell_type": "code",
   "execution_count": 3,
   "metadata": {},
   "outputs": [
    {
     "name": "stdout",
     "output_type": "stream",
     "text": [
      "<class '__main__.Product'>\n",
      "<class 'str'>\n",
      "<class 'int'>\n",
      "<class 'int'>\n"
     ]
    }
   ],
   "source": [
    "print(type(item1))\n",
    "print(type(item1.name))\n",
    "print(type(item1.price))\n",
    "print(type(item1.quantity))"
   ]
  }
 ],
 "metadata": {
  "kernelspec": {
   "display_name": "Python 3",
   "language": "python",
   "name": "python3"
  },
  "language_info": {
   "codemirror_mode": {
    "name": "ipython",
    "version": 3
   },
   "file_extension": ".py",
   "mimetype": "text/x-python",
   "name": "python",
   "nbconvert_exporter": "python",
   "pygments_lexer": "ipython3",
   "version": "3.11.9"
  }
 },
 "nbformat": 4,
 "nbformat_minor": 2
}
