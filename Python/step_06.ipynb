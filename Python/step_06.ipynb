{
 "cells": [
  {
   "cell_type": "code",
   "execution_count": 10,
   "metadata": {},
   "outputs": [],
   "source": [
    "class Product: \n",
    "    def __init__(self,name=\"Default\",price=0,quantity=1):\n",
    "        print(f\"An instance with name : {name} has been derived from Product class\")\n",
    "        self.__name = name # __name is a private attribute\n",
    "        self.price = price # price is a public attribute\n",
    "        self.quantity = quantity\n",
    "     \n",
    "    #kapsülleme    \n",
    "    @property   # getter \n",
    "    def name(self):\n",
    "        return self.__name    \n",
    "    @name.setter # setter\n",
    "    def name(self,value):\n",
    "        self.__name = value\n",
    "    \n",
    "    @property\n",
    "    def price(self):\n",
    "        return self.__price\n",
    "    @price.setter\n",
    "    def price(self,value):\n",
    "        self.__price = value\n",
    "    \n",
    "    @property\n",
    "    def quantity(self):\n",
    "        return self.__quantity\n",
    "    @quantity.setter\n",
    "    def quantity(self,value):\n",
    "        self.__quantity = value        \n",
    "    \n",
    "    def get_total_price(self):\n",
    "        return self.__price * self.__quantity    \n",
    "        "
   ]
  },
  {
   "cell_type": "code",
   "execution_count": 11,
   "metadata": {},
   "outputs": [
    {
     "name": "stdout",
     "output_type": "stream",
     "text": [
      "An instance with name : Laptop has been derived from Product class\n",
      "Mobile\n",
      "2000\n",
      "10\n",
      "20000\n"
     ]
    }
   ],
   "source": [
    "item1 = Product(\"Laptop\", 3000, 5)\n",
    "item1.name = \"Mobile\" # setter is called\n",
    "item1.price = 2000\n",
    "item1.quantity = 10\n",
    "print(item1.name)\n",
    "print(item1.price)\n",
    "print(item1.quantity)\n",
    "print(item1.get_total_price())\n",
    "\n"
   ]
  },
  {
   "cell_type": "code",
   "execution_count": 12,
   "metadata": {},
   "outputs": [
    {
     "name": "stdout",
     "output_type": "stream",
     "text": [
      "<class '__main__.Product'>\n",
      "<class 'str'>\n",
      "<class 'int'>\n",
      "<class 'int'>\n"
     ]
    }
   ],
   "source": [
    "print(type(item1))\n",
    "print(type(item1.name))\n",
    "print(type(item1.price))\n",
    "print(type(item1.quantity))"
   ]
  },
  {
   "cell_type": "code",
   "execution_count": 13,
   "metadata": {},
   "outputs": [
    {
     "name": "stdout",
     "output_type": "stream",
     "text": [
      "An instance with name : Default has been derived from Product class\n",
      "Default\n",
      "0\n",
      "1\n"
     ]
    }
   ],
   "source": [
    "#kapsülleme ve varsayılan değerler\n",
    "item2 = Product()\n",
    "item2.__name = \"Tablet\"\n",
    "item2.__price=1199\n",
    "item2.__quantity=3\n",
    "\n",
    "print(item2.name)\n",
    "print(item2.price)\n",
    "print(item2.quantity)\n"
   ]
  },
  {
   "cell_type": "code",
   "execution_count": 14,
   "metadata": {},
   "outputs": [
    {
     "name": "stdout",
     "output_type": "stream",
     "text": [
      "An instance with name : Mouse has been derived from Product class\n",
      "Mouse\n",
      "190.99\n",
      "1\n"
     ]
    }
   ],
   "source": [
    "item3 = Product(\"Mouse\", 190.99)\n",
    "print(item3.name)\n",
    "print(item3.price)\n",
    "print(item3.quantity)"
   ]
  }
 ],
 "metadata": {
  "kernelspec": {
   "display_name": "Python 3",
   "language": "python",
   "name": "python3"
  },
  "language_info": {
   "codemirror_mode": {
    "name": "ipython",
    "version": 3
   },
   "file_extension": ".py",
   "mimetype": "text/x-python",
   "name": "python",
   "nbconvert_exporter": "python",
   "pygments_lexer": "ipython3",
   "version": "3.11.9"
  }
 },
 "nbformat": 4,
 "nbformat_minor": 2
}
